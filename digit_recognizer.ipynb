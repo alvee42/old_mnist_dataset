{
 "cells": [
  {
   "cell_type": "markdown",
   "metadata": {},
   "source": [
    "# Digit Recognizer\n",
    "\n",
    "#### Alvee Hoque 8/8/2020\n",
    "\n",
    "#### Objective: \n",
    "- Build a Convulutional Neural Network for digit recognition that is trained with the MNIST dataset. \n",
    "- Predict on test set and submit predictions\n",
    "\n",
    "#### Dataset:\n",
    "- From [kaggle](https://www.kaggle.com/c/digit-recognizer/data) Digit Recognizer Prediction Competition"
   ]
  },
  {
   "cell_type": "markdown",
   "metadata": {},
   "source": [
    "### Imports"
   ]
  },
  {
   "cell_type": "code",
   "execution_count": 13,
   "metadata": {},
   "outputs": [],
   "source": [
    "# Basic Imports\n",
    "import numpy as np\n",
    "import pandas as pd\n",
    "import seaborn as sns\n",
    "import matplotlib.pyplot as plt\n",
    "%matplotlib inline\n",
    "\n",
    "sns.set_style('darkgrid')"
   ]
  },
  {
   "cell_type": "code",
   "execution_count": 14,
   "metadata": {},
   "outputs": [],
   "source": [
    "# sklearn and keras libraries\n",
    "\n",
    "from sklearn.model_selection import train_test_split\n",
    "from sklearn.metrics import confusion_matrix\n",
    "import itertools \n",
    "\n",
    "import tensorflow as tf\n",
    "from tensorflow.keras.models import Sequential\n",
    "from tensorflow.keras.layers import Dense, Activation, Dropout, Flatten, Conv2D, MaxPool2D\n",
    "from tensorflow.keras.optimizers import RMSprop, Adam\n",
    "from tensorflow.keras.constraints import max_norm\n",
    "\n",
    "from tensorflow.keras.utils import to_categorical\n",
    "from tensorflow.keras.preprocessing.image import ImageDataGenerator\n",
    "from tensorflow.keras.callbacks import ReduceLROnPlateau"
   ]
  },
  {
   "cell_type": "markdown",
   "metadata": {},
   "source": [
    "### Load Data"
   ]
  },
  {
   "cell_type": "code",
   "execution_count": 15,
   "metadata": {},
   "outputs": [
    {
     "name": "stdout",
     "output_type": "stream",
     "text": [
      "<class 'pandas.core.frame.DataFrame'>\n",
      "RangeIndex: 42000 entries, 0 to 41999\n",
      "Columns: 785 entries, label to pixel783\n",
      "dtypes: int64(785)\n",
      "memory usage: 251.5 MB\n"
     ]
    }
   ],
   "source": [
    "train = pd.read_csv('train.csv')\n",
    "test = pd.read_csv('test.csv')\n",
    "\n",
    "train.info()"
   ]
  },
  {
   "cell_type": "code",
   "execution_count": 16,
   "metadata": {},
   "outputs": [
    {
     "data": {
      "text/html": [
       "<div>\n",
       "<style scoped>\n",
       "    .dataframe tbody tr th:only-of-type {\n",
       "        vertical-align: middle;\n",
       "    }\n",
       "\n",
       "    .dataframe tbody tr th {\n",
       "        vertical-align: top;\n",
       "    }\n",
       "\n",
       "    .dataframe thead th {\n",
       "        text-align: right;\n",
       "    }\n",
       "</style>\n",
       "<table border=\"1\" class=\"dataframe\">\n",
       "  <thead>\n",
       "    <tr style=\"text-align: right;\">\n",
       "      <th></th>\n",
       "      <th>label</th>\n",
       "      <th>pixel0</th>\n",
       "      <th>pixel1</th>\n",
       "      <th>pixel2</th>\n",
       "      <th>pixel3</th>\n",
       "      <th>pixel4</th>\n",
       "      <th>pixel5</th>\n",
       "      <th>pixel6</th>\n",
       "      <th>pixel7</th>\n",
       "      <th>pixel8</th>\n",
       "      <th>...</th>\n",
       "      <th>pixel774</th>\n",
       "      <th>pixel775</th>\n",
       "      <th>pixel776</th>\n",
       "      <th>pixel777</th>\n",
       "      <th>pixel778</th>\n",
       "      <th>pixel779</th>\n",
       "      <th>pixel780</th>\n",
       "      <th>pixel781</th>\n",
       "      <th>pixel782</th>\n",
       "      <th>pixel783</th>\n",
       "    </tr>\n",
       "  </thead>\n",
       "  <tbody>\n",
       "    <tr>\n",
       "      <th>0</th>\n",
       "      <td>1</td>\n",
       "      <td>0</td>\n",
       "      <td>0</td>\n",
       "      <td>0</td>\n",
       "      <td>0</td>\n",
       "      <td>0</td>\n",
       "      <td>0</td>\n",
       "      <td>0</td>\n",
       "      <td>0</td>\n",
       "      <td>0</td>\n",
       "      <td>...</td>\n",
       "      <td>0</td>\n",
       "      <td>0</td>\n",
       "      <td>0</td>\n",
       "      <td>0</td>\n",
       "      <td>0</td>\n",
       "      <td>0</td>\n",
       "      <td>0</td>\n",
       "      <td>0</td>\n",
       "      <td>0</td>\n",
       "      <td>0</td>\n",
       "    </tr>\n",
       "    <tr>\n",
       "      <th>1</th>\n",
       "      <td>0</td>\n",
       "      <td>0</td>\n",
       "      <td>0</td>\n",
       "      <td>0</td>\n",
       "      <td>0</td>\n",
       "      <td>0</td>\n",
       "      <td>0</td>\n",
       "      <td>0</td>\n",
       "      <td>0</td>\n",
       "      <td>0</td>\n",
       "      <td>...</td>\n",
       "      <td>0</td>\n",
       "      <td>0</td>\n",
       "      <td>0</td>\n",
       "      <td>0</td>\n",
       "      <td>0</td>\n",
       "      <td>0</td>\n",
       "      <td>0</td>\n",
       "      <td>0</td>\n",
       "      <td>0</td>\n",
       "      <td>0</td>\n",
       "    </tr>\n",
       "    <tr>\n",
       "      <th>2</th>\n",
       "      <td>1</td>\n",
       "      <td>0</td>\n",
       "      <td>0</td>\n",
       "      <td>0</td>\n",
       "      <td>0</td>\n",
       "      <td>0</td>\n",
       "      <td>0</td>\n",
       "      <td>0</td>\n",
       "      <td>0</td>\n",
       "      <td>0</td>\n",
       "      <td>...</td>\n",
       "      <td>0</td>\n",
       "      <td>0</td>\n",
       "      <td>0</td>\n",
       "      <td>0</td>\n",
       "      <td>0</td>\n",
       "      <td>0</td>\n",
       "      <td>0</td>\n",
       "      <td>0</td>\n",
       "      <td>0</td>\n",
       "      <td>0</td>\n",
       "    </tr>\n",
       "    <tr>\n",
       "      <th>3</th>\n",
       "      <td>4</td>\n",
       "      <td>0</td>\n",
       "      <td>0</td>\n",
       "      <td>0</td>\n",
       "      <td>0</td>\n",
       "      <td>0</td>\n",
       "      <td>0</td>\n",
       "      <td>0</td>\n",
       "      <td>0</td>\n",
       "      <td>0</td>\n",
       "      <td>...</td>\n",
       "      <td>0</td>\n",
       "      <td>0</td>\n",
       "      <td>0</td>\n",
       "      <td>0</td>\n",
       "      <td>0</td>\n",
       "      <td>0</td>\n",
       "      <td>0</td>\n",
       "      <td>0</td>\n",
       "      <td>0</td>\n",
       "      <td>0</td>\n",
       "    </tr>\n",
       "    <tr>\n",
       "      <th>4</th>\n",
       "      <td>0</td>\n",
       "      <td>0</td>\n",
       "      <td>0</td>\n",
       "      <td>0</td>\n",
       "      <td>0</td>\n",
       "      <td>0</td>\n",
       "      <td>0</td>\n",
       "      <td>0</td>\n",
       "      <td>0</td>\n",
       "      <td>0</td>\n",
       "      <td>...</td>\n",
       "      <td>0</td>\n",
       "      <td>0</td>\n",
       "      <td>0</td>\n",
       "      <td>0</td>\n",
       "      <td>0</td>\n",
       "      <td>0</td>\n",
       "      <td>0</td>\n",
       "      <td>0</td>\n",
       "      <td>0</td>\n",
       "      <td>0</td>\n",
       "    </tr>\n",
       "  </tbody>\n",
       "</table>\n",
       "<p>5 rows × 785 columns</p>\n",
       "</div>"
      ],
      "text/plain": [
       "   label  pixel0  pixel1  pixel2  pixel3  pixel4  pixel5  pixel6  pixel7  \\\n",
       "0      1       0       0       0       0       0       0       0       0   \n",
       "1      0       0       0       0       0       0       0       0       0   \n",
       "2      1       0       0       0       0       0       0       0       0   \n",
       "3      4       0       0       0       0       0       0       0       0   \n",
       "4      0       0       0       0       0       0       0       0       0   \n",
       "\n",
       "   pixel8  ...  pixel774  pixel775  pixel776  pixel777  pixel778  pixel779  \\\n",
       "0       0  ...         0         0         0         0         0         0   \n",
       "1       0  ...         0         0         0         0         0         0   \n",
       "2       0  ...         0         0         0         0         0         0   \n",
       "3       0  ...         0         0         0         0         0         0   \n",
       "4       0  ...         0         0         0         0         0         0   \n",
       "\n",
       "   pixel780  pixel781  pixel782  pixel783  \n",
       "0         0         0         0         0  \n",
       "1         0         0         0         0  \n",
       "2         0         0         0         0  \n",
       "3         0         0         0         0  \n",
       "4         0         0         0         0  \n",
       "\n",
       "[5 rows x 785 columns]"
      ]
     },
     "execution_count": 16,
     "metadata": {},
     "output_type": "execute_result"
    }
   ],
   "source": [
    "train.head()"
   ]
  },
  {
   "cell_type": "code",
   "execution_count": 17,
   "metadata": {},
   "outputs": [
    {
     "data": {
      "text/plain": [
       "<matplotlib.axes._subplots.AxesSubplot at 0x26c6f8e9588>"
      ]
     },
     "execution_count": 17,
     "metadata": {},
     "output_type": "execute_result"
    },
    {
     "data": {
      "image/png": "[encoded data removed]",
      "text/plain": [
       "<Figure size 1152x288 with 1 Axes>"
      ]
     },
     "metadata": {},
     "output_type": "display_data"
    }
   ],
   "source": [
    "plt.figure(figsize=(16,4))\n",
    "sns.countplot(train.label)"
   ]
  },
  {
   "cell_type": "code",
   "execution_count": 18,
   "metadata": {},
   "outputs": [
    {
     "data": {
      "text/plain": [
       "count       785\n",
       "unique        1\n",
       "top       False\n",
       "freq        785\n",
       "dtype: object"
      ]
     },
     "execution_count": 18,
     "metadata": {},
     "output_type": "execute_result"
    }
   ],
   "source": [
    "train.isnull().any().describe()"
   ]
  },
  {
   "cell_type": "code",
   "execution_count": 19,
   "metadata": {},
   "outputs": [
    {
     "data": {
      "text/plain": [
       "count       784\n",
       "unique        1\n",
       "top       False\n",
       "freq        784\n",
       "dtype: object"
      ]
     },
     "execution_count": 19,
     "metadata": {},
     "output_type": "execute_result"
    }
   ],
   "source": [
    "test.isnull().any().describe()"
   ]
  },
  {
   "cell_type": "code",
   "execution_count": 20,
   "metadata": {},
   "outputs": [],
   "source": [
    "# Separate Targets from Features\n",
    "target = train['label']\n",
    "train.drop(['label'], axis=1, inplace=True)"
   ]
  },
  {
   "cell_type": "code",
   "execution_count": 21,
   "metadata": {},
   "outputs": [],
   "source": [
    "# Normalize Data\n",
    "# Perform Grayscale Normalization\n",
    "\n",
    "train = train / 255\n",
    "test = test / 255"
   ]
  },
  {
   "cell_type": "code",
   "execution_count": 22,
   "metadata": {},
   "outputs": [],
   "source": [
    "# Reshape image in 3 dimensions (28 x 28 x 1) \n",
    "# If this was an RGB Image, then it would have been 28 x 28 x 3\n",
    "\n",
    "train = train.values.reshape(-1,28,28,1)\n",
    "test = test.values.reshape(-1,28,28,1)"
   ]
  },
  {
   "cell_type": "code",
   "execution_count": 23,
   "metadata": {},
   "outputs": [],
   "source": [
    "# One Hot Encoding\n",
    "target = to_categorical(target, num_classes=10)"
   ]
  },
  {
   "cell_type": "code",
   "execution_count": 24,
   "metadata": {},
   "outputs": [],
   "source": [
    "# Split into Train and Test Sets\n",
    "X_train, X_test, y_train, y_test = train_test_split(train, target, test_size=0.2, random_state=42)"
   ]
  },
  {
   "cell_type": "code",
   "execution_count": null,
   "metadata": {},
   "outputs": [],
   "source": []
  },
  {
   "cell_type": "code",
   "execution_count": null,
   "metadata": {},
   "outputs": [],
   "source": []
  },
  {
   "cell_type": "code",
   "execution_count": 25,
   "metadata": {},
   "outputs": [],
   "source": [
    "model = Sequential()"
   ]
  },
  {
   "cell_type": "code",
   "execution_count": 14,
   "metadata": {},
   "outputs": [
    {
     "name": "stdout",
     "output_type": "stream",
     "text": [
      "WARNING:tensorflow:From C:\\Users\\Alvee\\anaconda3\\lib\\site-packages\\tensorflow\\python\\ops\\init_ops.py:1251: calling VarianceScaling.__init__ (from tensorflow.python.ops.init_ops) with dtype is deprecated and will be removed in a future version.\n",
      "Instructions for updating:\n",
      "Call initializer instance with the dtype argument instead of passing it to the constructor\n"
     ]
    }
   ],
   "source": [
    "model.add(Conv2D(filters=28, kernel_size=(5,5), activation='relu', input_shape=(28,28,1)))\n",
    "model.add(Conv2D(filters=28, kernel_size=(3,3), activation='relu', input_shape=(28,28,1)))\n",
    "model.add(MaxPool2D(pool_size=(2,2)))\n",
    "model.add(Dropout(.25))"
   ]
  },
  {
   "cell_type": "code",
   "execution_count": 15,
   "metadata": {},
   "outputs": [],
   "source": [
    "model.add(Conv2D(filters=56, kernel_size=(3,3), activation='relu'))\n",
    "model.add(Conv2D(filters=56, kernel_size=(3,3), activation='relu'))\n",
    "model.add(MaxPool2D(pool_size=(2,2)))\n",
    "model.add(Dropout(.25))"
   ]
  },
  {
   "cell_type": "code",
   "execution_count": 16,
   "metadata": {},
   "outputs": [],
   "source": [
    "model.add(Flatten())\n",
    "model.add(Dense(256, activation='relu'))\n",
    "model.add(Dropout(.25))\n",
    "model.add(Dense(10, activation='softmax'))"
   ]
  },
  {
   "cell_type": "code",
   "execution_count": 17,
   "metadata": {},
   "outputs": [],
   "source": [
    "# optimizer\n",
    "rms_optim = RMSprop(lr=.001, rho=.9, epsilon=1e-8)\n",
    "adam_optim = Adam()"
   ]
  },
  {
   "cell_type": "code",
   "execution_count": 18,
   "metadata": {},
   "outputs": [],
   "source": [
    "model.compile(optimizer=rms_optim, loss='categorical_crossentropy', metrics=['accuracy'])"
   ]
  },
  {
   "cell_type": "code",
   "execution_count": 29,
   "metadata": {},
   "outputs": [],
   "source": [
    "learning_rate_reduction = ReduceLROnPlateau(monitor='val_acc',\n",
    "                                           patience=3,\n",
    "                                           verbose=1,\n",
    "                                           factor=.5,\n",
    "                                           min_lr=.00001)\n",
    "epochs = 30\n",
    "batch_size = 96"
   ]
  },
  {
   "cell_type": "code",
   "execution_count": 30,
   "metadata": {},
   "outputs": [],
   "source": [
    "datagen = ImageDataGenerator(featurewise_center=False,\n",
    "                            samplewise_center=False,\n",
    "                            featurewise_std_normalization=False,\n",
    "                            zca_whitening=False,\n",
    "                            rotation_range=10,\n",
    "                            zoom_range=.1,\n",
    "                            width_shift_range=.1,\n",
    "                            height_shift_range=.1,\n",
    "                            horizontal_flip=False,\n",
    "                            vertical_flip=False)\n",
    "\n",
    "datagen.fit(X_train)"
   ]
  },
  {
   "cell_type": "code",
   "execution_count": 31,
   "metadata": {},
   "outputs": [
    {
     "name": "stdout",
     "output_type": "stream",
     "text": [
      "Epoch 1/30\n",
      "350/350 - 16s - loss: 0.1569 - acc: 0.9528 - val_loss: 0.0397 - val_acc: 0.9869\n",
      "Epoch 2/30\n",
      "350/350 - 16s - loss: 0.1123 - acc: 0.9654 - val_loss: 0.0285 - val_acc: 0.9907\n",
      "Epoch 3/30\n",
      "350/350 - 16s - loss: 0.0892 - acc: 0.9728 - val_loss: 0.0306 - val_acc: 0.9899\n",
      "Epoch 4/30\n",
      "350/350 - 16s - loss: 0.0828 - acc: 0.9750 - val_loss: 0.0260 - val_acc: 0.9921\n",
      "Epoch 5/30\n",
      "350/350 - 16s - loss: 0.0705 - acc: 0.9788 - val_loss: 0.0215 - val_acc: 0.9932\n",
      "Epoch 6/30\n",
      "350/350 - 16s - loss: 0.0668 - acc: 0.9801 - val_loss: 0.0307 - val_acc: 0.9902\n",
      "Epoch 7/30\n",
      "350/350 - 16s - loss: 0.0597 - acc: 0.9831 - val_loss: 0.0201 - val_acc: 0.9930\n",
      "Epoch 8/30\n",
      "350/350 - 16s - loss: 0.0588 - acc: 0.9830 - val_loss: 0.0202 - val_acc: 0.9937\n",
      "Epoch 9/30\n",
      "350/350 - 16s - loss: 0.0547 - acc: 0.9837 - val_loss: 0.0177 - val_acc: 0.9940\n",
      "Epoch 10/30\n",
      "350/350 - 16s - loss: 0.0513 - acc: 0.9845 - val_loss: 0.0198 - val_acc: 0.9933\n",
      "Epoch 11/30\n",
      "350/350 - 16s - loss: 0.0508 - acc: 0.9847 - val_loss: 0.0202 - val_acc: 0.9939\n",
      "Epoch 12/30\n",
      "\n",
      "Epoch 00012: ReduceLROnPlateau reducing learning rate to 0.0005000000237487257.\n",
      "350/350 - 16s - loss: 0.0477 - acc: 0.9862 - val_loss: 0.0338 - val_acc: 0.9900\n",
      "Epoch 13/30\n",
      "350/350 - 16s - loss: 0.0411 - acc: 0.9882 - val_loss: 0.0149 - val_acc: 0.9950\n",
      "Epoch 14/30\n",
      "350/350 - 16s - loss: 0.0397 - acc: 0.9882 - val_loss: 0.0158 - val_acc: 0.9955\n",
      "Epoch 15/30\n",
      "350/350 - 16s - loss: 0.0371 - acc: 0.9890 - val_loss: 0.0164 - val_acc: 0.9944\n",
      "Epoch 16/30\n",
      "350/350 - 16s - loss: 0.0381 - acc: 0.9887 - val_loss: 0.0175 - val_acc: 0.9940\n",
      "Epoch 17/30\n",
      "\n",
      "Epoch 00017: ReduceLROnPlateau reducing learning rate to 0.0002500000118743628.\n",
      "350/350 - 16s - loss: 0.0360 - acc: 0.9893 - val_loss: 0.0181 - val_acc: 0.9938\n",
      "Epoch 18/30\n",
      "350/350 - 16s - loss: 0.0312 - acc: 0.9902 - val_loss: 0.0150 - val_acc: 0.9951\n",
      "Epoch 19/30\n",
      "350/350 - 16s - loss: 0.0317 - acc: 0.9905 - val_loss: 0.0154 - val_acc: 0.9945\n",
      "Epoch 20/30\n",
      "350/350 - 16s - loss: 0.0310 - acc: 0.9904 - val_loss: 0.0149 - val_acc: 0.9956\n",
      "Epoch 21/30\n",
      "350/350 - 16s - loss: 0.0310 - acc: 0.9903 - val_loss: 0.0189 - val_acc: 0.9943\n",
      "Epoch 22/30\n",
      "350/350 - 16s - loss: 0.0293 - acc: 0.9910 - val_loss: 0.0160 - val_acc: 0.9948\n",
      "Epoch 23/30\n",
      "\n",
      "Epoch 00023: ReduceLROnPlateau reducing learning rate to 0.0001250000059371814.\n",
      "350/350 - 16s - loss: 0.0303 - acc: 0.9912 - val_loss: 0.0140 - val_acc: 0.9956\n",
      "Epoch 24/30\n",
      "350/350 - 16s - loss: 0.0280 - acc: 0.9913 - val_loss: 0.0149 - val_acc: 0.9949\n",
      "Epoch 25/30\n",
      "350/350 - 16s - loss: 0.0275 - acc: 0.9925 - val_loss: 0.0135 - val_acc: 0.9961\n",
      "Epoch 26/30\n",
      "350/350 - 16s - loss: 0.0264 - acc: 0.9924 - val_loss: 0.0144 - val_acc: 0.9962\n",
      "Epoch 27/30\n",
      "350/350 - 16s - loss: 0.0263 - acc: 0.9916 - val_loss: 0.0141 - val_acc: 0.9956\n",
      "Epoch 28/30\n",
      "350/350 - 16s - loss: 0.0288 - acc: 0.9916 - val_loss: 0.0135 - val_acc: 0.9957\n",
      "Epoch 29/30\n",
      "\n",
      "Epoch 00029: ReduceLROnPlateau reducing learning rate to 6.25000029685907e-05.\n",
      "350/350 - 16s - loss: 0.0254 - acc: 0.9927 - val_loss: 0.0139 - val_acc: 0.9957\n",
      "Epoch 30/30\n",
      "350/350 - 16s - loss: 0.0261 - acc: 0.9923 - val_loss: 0.0148 - val_acc: 0.9950\n"
     ]
    }
   ],
   "source": [
    "history = model.fit(datagen.flow(X_train, y_train, batch_size=batch_size),\n",
    "                   epochs=epochs,\n",
    "                   validation_data=(X_test, y_test),\n",
    "                   verbose=2,\n",
    "                   steps_per_epoch=X_train.shape[0]//batch_size,\n",
    "                   callbacks=[learning_rate_reduction])"
   ]
  },
  {
   "cell_type": "code",
   "execution_count": 32,
   "metadata": {},
   "outputs": [
    {
     "data": {
      "text/plain": [
       "{'loss': [0.15686362496444156,\n",
       "  0.1123208326340786,\n",
       "  0.08916609133460691,\n",
       "  0.0828034118217017,\n",
       "  0.07049970754289202,\n",
       "  0.06683466601917254,\n",
       "  0.05965457961828049,\n",
       "  0.05884822723123112,\n",
       "  0.05467794132219361,\n",
       "  0.051285268675003735,\n",
       "  0.0507504221810294,\n",
       "  0.0477037164239612,\n",
       "  0.04113663064582007,\n",
       "  0.039712223580073834,\n",
       "  0.037147720301789894,\n",
       "  0.03812074408068188,\n",
       "  0.03601095977156157,\n",
       "  0.03121148861479014,\n",
       "  0.031657424926524985,\n",
       "  0.030950034598520557,\n",
       "  0.03102595004070151,\n",
       "  0.029348949592926405,\n",
       "  0.030336580097708586,\n",
       "  0.02796773725896076,\n",
       "  0.027524153877914483,\n",
       "  0.02640617552238317,\n",
       "  0.02625229276251048,\n",
       "  0.028814119142313886,\n",
       "  0.02537990760307626,\n",
       "  0.02609861871884537],\n",
       " 'acc': [0.9527976,\n",
       "  0.96541667,\n",
       "  0.97279763,\n",
       "  0.97502977,\n",
       "  0.97877973,\n",
       "  0.9800893,\n",
       "  0.983125,\n",
       "  0.9829762,\n",
       "  0.9836607,\n",
       "  0.98449403,\n",
       "  0.9846726,\n",
       "  0.9861607,\n",
       "  0.9882143,\n",
       "  0.9882143,\n",
       "  0.98901784,\n",
       "  0.9886905,\n",
       "  0.9892857,\n",
       "  0.9902381,\n",
       "  0.9904762,\n",
       "  0.99044645,\n",
       "  0.9902679,\n",
       "  0.9910119,\n",
       "  0.9911905,\n",
       "  0.9913095,\n",
       "  0.99252975,\n",
       "  0.9923512,\n",
       "  0.99163693,\n",
       "  0.9915774,\n",
       "  0.9926786,\n",
       "  0.99232143],\n",
       " 'val_loss': [0.03968814094233411,\n",
       "  0.028509647883104415,\n",
       "  0.030580546511125496,\n",
       "  0.02595174632121846,\n",
       "  0.021502220685347725,\n",
       "  0.030724234037651597,\n",
       "  0.020066292404821565,\n",
       "  0.020228008811252286,\n",
       "  0.01771768431453066,\n",
       "  0.019815543025370887,\n",
       "  0.020226652071869466,\n",
       "  0.03377661872962728,\n",
       "  0.014889787761024887,\n",
       "  0.015757717146315867,\n",
       "  0.016381522163783302,\n",
       "  0.01754777594992034,\n",
       "  0.01812402481267451,\n",
       "  0.015018281617647683,\n",
       "  0.015441521285455647,\n",
       "  0.01494590450110164,\n",
       "  0.018922302326576424,\n",
       "  0.016035241197393836,\n",
       "  0.013954150704979507,\n",
       "  0.014882236272156164,\n",
       "  0.013482582367239294,\n",
       "  0.014408894875114956,\n",
       "  0.014064575887129071,\n",
       "  0.013546961923731777,\n",
       "  0.01390811087861204,\n",
       "  0.014802027593470319],\n",
       " 'val_acc': [0.98690474,\n",
       "  0.9907143,\n",
       "  0.989881,\n",
       "  0.99214286,\n",
       "  0.9932143,\n",
       "  0.9902381,\n",
       "  0.9929762,\n",
       "  0.9936905,\n",
       "  0.99404764,\n",
       "  0.99333334,\n",
       "  0.99392855,\n",
       "  0.99,\n",
       "  0.995,\n",
       "  0.9954762,\n",
       "  0.99440473,\n",
       "  0.99404764,\n",
       "  0.9938095,\n",
       "  0.99511904,\n",
       "  0.9945238,\n",
       "  0.9955952,\n",
       "  0.9942857,\n",
       "  0.9947619,\n",
       "  0.9955952,\n",
       "  0.994881,\n",
       "  0.99607146,\n",
       "  0.9961905,\n",
       "  0.9955952,\n",
       "  0.9957143,\n",
       "  0.9957143,\n",
       "  0.995],\n",
       " 'lr': [0.001,\n",
       "  0.001,\n",
       "  0.001,\n",
       "  0.001,\n",
       "  0.001,\n",
       "  0.001,\n",
       "  0.001,\n",
       "  0.001,\n",
       "  0.001,\n",
       "  0.001,\n",
       "  0.001,\n",
       "  0.001,\n",
       "  0.0005,\n",
       "  0.0005,\n",
       "  0.0005,\n",
       "  0.0005,\n",
       "  0.0005,\n",
       "  0.00025,\n",
       "  0.00025,\n",
       "  0.00025,\n",
       "  0.00025,\n",
       "  0.00025,\n",
       "  0.00025,\n",
       "  0.000125,\n",
       "  0.000125,\n",
       "  0.000125,\n",
       "  0.000125,\n",
       "  0.000125,\n",
       "  0.000125,\n",
       "  6.25e-05]}"
      ]
     },
     "execution_count": 32,
     "metadata": {},
     "output_type": "execute_result"
    }
   ],
   "source": [
    "history.history"
   ]
  },
  {
   "cell_type": "code",
   "execution_count": 33,
   "metadata": {},
   "outputs": [
    {
     "data": {
      "text/plain": [
       "<Figure size 864x432 with 0 Axes>"
      ]
     },
     "execution_count": 33,
     "metadata": {},
     "output_type": "execute_result"
    },
    {
     "data": {
      "text/plain": [
       "<Figure size 864x432 with 0 Axes>"
      ]
     },
     "metadata": {},
     "output_type": "display_data"
    }
   ],
   "source": [
    "plt.figure(figsize=(12,6))\n",
    "\n"
   ]
  },
  {
   "cell_type": "code",
   "execution_count": 34,
   "metadata": {},
   "outputs": [],
   "source": [
    "losses = pd.DataFrame(model.history.history)"
   ]
  },
  {
   "cell_type": "code",
   "execution_count": 35,
   "metadata": {},
   "outputs": [
    {
     "data": {
      "text/plain": [
       "<matplotlib.axes._subplots.AxesSubplot at 0x1960e35c4c8>"
      ]
     },
     "execution_count": 35,
     "metadata": {},
     "output_type": "execute_result"
    },
    {
     "data": {
      "image/png": "[encoded data removed]",
      "text/plain": [
       "<Figure size 432x288 with 1 Axes>"
      ]
     },
     "metadata": {},
     "output_type": "display_data"
    }
   ],
   "source": [
    "losses.plot()"
   ]
  },
  {
   "cell_type": "code",
   "execution_count": 36,
   "metadata": {},
   "outputs": [],
   "source": [
    "# Prediction with model\n",
    "\n",
    "y_pred = model.predict(X_test)"
   ]
  },
  {
   "cell_type": "code",
   "execution_count": 37,
   "metadata": {},
   "outputs": [],
   "source": [
    "y_predclasses = np.argmax(y_pred, axis=1)"
   ]
  },
  {
   "cell_type": "code",
   "execution_count": 38,
   "metadata": {},
   "outputs": [],
   "source": [
    "y_true = np.argmax(y_test, axis=1)"
   ]
  },
  {
   "cell_type": "code",
   "execution_count": 42,
   "metadata": {},
   "outputs": [],
   "source": [
    "mtrx = confusion_matrix(y_true, y_predclasses)"
   ]
  },
  {
   "cell_type": "code",
   "execution_count": 44,
   "metadata": {},
   "outputs": [],
   "source": [
    "from sklearn.metrics import classification_report"
   ]
  },
  {
   "cell_type": "code",
   "execution_count": 48,
   "metadata": {},
   "outputs": [
    {
     "name": "stdout",
     "output_type": "stream",
     "text": [
      "              precision    recall  f1-score   support\n",
      "\n",
      "           0     0.9975    0.9963    0.9969       816\n",
      "           1     0.9967    0.9978    0.9973       909\n",
      "           2     0.9988    0.9941    0.9964       846\n",
      "           3     0.9968    0.9979    0.9973       937\n",
      "           4     0.9940    0.9928    0.9934       839\n",
      "           5     0.9943    0.9943    0.9943       702\n",
      "           6     0.9936    0.9949    0.9943       785\n",
      "           7     0.9978    0.9955    0.9966       893\n",
      "           8     0.9881    0.9964    0.9922       835\n",
      "           9     0.9916    0.9893    0.9904       838\n",
      "\n",
      "    accuracy                         0.9950      8400\n",
      "   macro avg     0.9949    0.9949    0.9949      8400\n",
      "weighted avg     0.9950    0.9950    0.9950      8400\n",
      "\n"
     ]
    }
   ],
   "source": [
    "print(classification_report(y_true, y_predclasses, digits=4))"
   ]
  },
  {
   "cell_type": "code",
   "execution_count": null,
   "metadata": {},
   "outputs": [],
   "source": [
    "classification_report()"
   ]
  },
  {
   "cell_type": "code",
   "execution_count": 49,
   "metadata": {},
   "outputs": [],
   "source": [
    "results = model.predict(test)\n",
    "results = np.argmax(results, axis=1)\n",
    "results = pd.Series(results, name='Label')"
   ]
  },
  {
   "cell_type": "code",
   "execution_count": 50,
   "metadata": {},
   "outputs": [],
   "source": [
    "submission = pd.concat([pd.Series(range(1,28001), name='ImageId'), results], axis = 1)"
   ]
  },
  {
   "cell_type": "code",
   "execution_count": 51,
   "metadata": {},
   "outputs": [],
   "source": [
    "submission.to_csv(\"cnn_mnist_datagen.csv\", index=False)"
   ]
  },
  {
   "cell_type": "code",
   "execution_count": null,
   "metadata": {},
   "outputs": [],
   "source": []
  }
 ],
 "metadata": {
  "kernelspec": {
   "display_name": "Python 3",
   "language": "python",
   "name": "python3"
  },
  "language_info": {
   "codemirror_mode": {
    "name": "ipython",
    "version": 3
   },
   "file_extension": ".py",
   "mimetype": "text/x-python",
   "name": "python",
   "nbconvert_exporter": "python",
   "pygments_lexer": "ipython3",
   "version": "3.7.6"
  }
 },
 "nbformat": 4,
 "nbformat_minor": 4
}
